{
 "cells": [
  {
   "cell_type": "code",
   "execution_count": 6,
   "metadata": {},
   "outputs": [],
   "source": [
    "from clusopt_core.metrics import DistanceMatrix,Silhouette\n",
    "from sklearn.metrics import pairwise_distances,silhouette_score\n",
    "from sklearn.datasets import make_blobs\n",
    "from collections import defaultdict\n",
    "import pandas as pd\n",
    "import numpy as np\n",
    "import matplotlib.pyplot as plt\n",
    "import time\n",
    "\n",
    "def timeit(callable_):\n",
    "    start=time.time()\n",
    "    callable_()\n",
    "    end=time.time()\n",
    "    return end-start\n",
    "\n",
    "REPETITIONS=100\n"
   ]
  },
  {
   "cell_type": "code",
   "execution_count": 7,
   "metadata": {},
   "outputs": [],
   "source": [
    "callable_pairs=[\n",
    "    (\"scikit learn\",lambda dataset,labels:silhouette_score(distances,labels,metric=\"precomputed\")),\n",
    "    (\"clusopt core\",lambda dataset,labels:cpp_silhouette.get_score(distances,labels)),\n",
    "]\n",
    "\n",
    "dataset_configs=[#no_samples,dim,k\n",
    "    (200,2,2),\n",
    "    (200,2,100),\n",
    "    (200,4000,2),\n",
    "    (200,4000,100),\n",
    "\n",
    "    (4000,2,2),\n",
    "    (4000,2,100),\n",
    "    (4000,4000,2),\n",
    "    (4000,4000,100),\n",
    "]\n",
    "\n"
   ]
  },
  {
   "cell_type": "code",
   "execution_count": 8,
   "metadata": {},
   "outputs": [],
   "source": [
    "indexes=[]\n",
    "data=[]\n",
    "\n",
    "for no_samples,dim,k in dataset_configs:\n",
    "    dataset,labels=make_blobs(centers=k,n_samples=no_samples,n_features=dim,random_state=42)\n",
    "    dist_matrix=DistanceMatrix(no_samples)\n",
    "    dist_matrix.compute(dataset)\n",
    "    distances=dist_matrix.table\n",
    "\n",
    "    cpp_silhouette = Silhouette(k)\n",
    "\n",
    "    indexes.append(str((no_samples,dim,k)))\n",
    "\n",
    "    entry=defaultdict(list)\n",
    "    for _ in range(REPETITIONS):\n",
    "        for method_name,callable_ in callable_pairs:\n",
    "            entry[method_name].append(timeit(lambda :callable_(distances,labels)))\n",
    "\n",
    "    data.append(entry)"
   ]
  },
  {
   "cell_type": "code",
   "execution_count": 9,
   "metadata": {},
   "outputs": [],
   "source": [
    "mean=pd.DataFrame(\n",
    "    [ \n",
    "        {\n",
    "            k:np.mean(v)\n",
    "            for k,v in entry.items()\n",
    "        }\n",
    "        for entry in data\n",
    "    ],\n",
    "    index=indexes\n",
    ")\n",
    "std=pd.DataFrame(\n",
    "    [ \n",
    "        {\n",
    "            k:np.std(v)\n",
    "            for k,v in entry.items()\n",
    "        }\n",
    "        for entry in data\n",
    "    ],\n",
    "    index=indexes\n",
    ")"
   ]
  },
  {
   "cell_type": "code",
   "execution_count": 10,
   "metadata": {},
   "outputs": [
    {
     "data": {
      "text/plain": [
       "Text(0.5, 1.0, 'clusopt core $\\\\times$ scikit learn : \\n silhouette score execution time \\n (lower is better)')"
      ]
     },
     "execution_count": 10,
     "metadata": {},
     "output_type": "execute_result"
    },
    {
     "data": {
      "image/png": "[encoded data removed]",
      "text/plain": [
       "<Figure size 864x720 with 1 Axes>"
      ]
     },
     "metadata": {
      "needs_background": "light"
     },
     "output_type": "display_data"
    }
   ],
   "source": [
    "mean.plot.bar(ylabel=\"time (s)\",yerr=std,capsize=4,rot=0)\n",
    "plt.yscale(\"log\")\n",
    "fig=plt.gcf()\n",
    "fig.set_size_inches(12, 10)\n",
    "\n",
    "plt.savefig(\"silhouette.jpeg\",dpi=300)\n",
    "plt.title(\"clusopt core $\\\\times$ scikit learn : \\n silhouette score execution time \\n (lower is better)\")\n"
   ]
  },
  {
   "cell_type": "code",
   "execution_count": null,
   "metadata": {},
   "outputs": [],
   "source": []
  }
 ],
 "metadata": {
  "kernelspec": {
   "display_name": ".venv",
   "language": "python",
   "name": ".venv"
  },
  "language_info": {
   "codemirror_mode": {
    "name": "ipython",
    "version": 3
   },
   "file_extension": ".py",
   "mimetype": "text/x-python",
   "name": "python",
   "nbconvert_exporter": "python",
   "pygments_lexer": "ipython3",
   "version": "3.7.3"
  }
 },
 "nbformat": 4,
 "nbformat_minor": 2
}
